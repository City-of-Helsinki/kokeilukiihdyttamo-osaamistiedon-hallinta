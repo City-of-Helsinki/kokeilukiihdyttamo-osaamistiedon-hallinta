{
 "cells": [
  {
   "cell_type": "code",
   "execution_count": null,
   "metadata": {},
   "outputs": [],
   "source": [
    "import string\n",
    "import pandas as pd\n",
    "import ipywidgets as widgets\n",
    "import traitlets\n",
    "from ast import literal_eval\n",
    "from utils.preprocessing import tokenize"
   ]
  },
  {
   "cell_type": "code",
   "execution_count": null,
   "metadata": {},
   "outputs": [],
   "source": [
    "df = pd.read_csv('data/processed/row_df_fi.csv', index_col=0)\n",
    "\n",
    "# shuffle\n",
    "df = df.sample(frac=1)\n",
    "\n",
    "df"
   ]
  },
  {
   "cell_type": "code",
   "execution_count": null,
   "metadata": {},
   "outputs": [],
   "source": [
    "bio = {\n",
    "    '0': {'button_style': ''},\n",
    "    '1': {'button_style': 'warning'}\n",
    "}\n",
    "\n",
    "labels = list(bio.keys())"
   ]
  },
  {
   "cell_type": "code",
   "execution_count": null,
   "metadata": {},
   "outputs": [],
   "source": [
    "TEXT_COL = 'answer'\n",
    "LABEL_COL = 'label'\n",
    "N_COLS = 12\n",
    "\n",
    "if LABEL_COL not in df.columns:\n",
    "    df[LABEL_COL] = None\n",
    "\n",
    "idxmap = dict(enumerate(df.index))\n",
    "\n",
    "i = 0"
   ]
  },
  {
   "cell_type": "code",
   "execution_count": null,
   "metadata": {},
   "outputs": [],
   "source": [
    "def next_prev_button_click(next_or_prev, button):\n",
    "    assert next_or_prev in ['next', 'prev']\n",
    "    global i\n",
    "    \n",
    "    # @@@ set labels for the previous text @@@\n",
    "\n",
    "    if i >= 0:\n",
    "        # in the beginning container does not contain HBoxes so we must handle that special case\n",
    "        hboxes = container.children\n",
    "\n",
    "        # get BIO labels for each token\n",
    "        labels = [w.tooltip for hbox in hboxes for w in hbox.children]\n",
    "        df.loc[idxmap[i], LABEL_COL] = labels\n",
    "\n",
    "    # @@@ increase or decrease index @@@\n",
    "    \n",
    "    new_i = i + {'next': 1, 'prev': -1}[next_or_prev]\n",
    "    \n",
    "    if 0 <= new_i and new_i < len(df):\n",
    "        i = new_i\n",
    "        \n",
    "    # @@@ if the new text has been labeled, use those labels @@@\n",
    "    \n",
    "    text = df.loc[idxmap[i], TEXT_COL]\n",
    "    labels = df.loc[idxmap[i], LABEL_COL]\n",
    "    \n",
    "    hboxes = get_hboxes(text, labels)\n",
    "    container.children = hboxes\n",
    "    \n",
    "    txt.value = text\n",
    "    \n",
    "def prev_button_click(button):\n",
    "    return next_prev_button_click('prev', button)\n",
    "\n",
    "def next_button_click(button):\n",
    "    return next_prev_button_click('next', button)\n",
    "\n",
    "def handle_label_click(button):\n",
    "    next_label = labels[(labels.index(button.tooltip) + 1) % len(labels)]\n",
    "\n",
    "    button.button_style = bio[next_label]['button_style']\n",
    "    button.tooltip = next_label"
   ]
  },
  {
   "cell_type": "code",
   "execution_count": null,
   "metadata": {},
   "outputs": [],
   "source": [
    "def get_hboxes(text, labels):\n",
    "    ws = []\n",
    "\n",
    "    tokens = tokenize(text)\n",
    "\n",
    "    if labels is None or labels != labels:\n",
    "        labels = ['0'] * len(tokens)\n",
    "        \n",
    "    assert len(tokens) == len(labels)\n",
    "\n",
    "    for token, label in zip(tokens, labels):\n",
    "        w = widgets.Button(description=token, tooltip=label, button_style=bio[label]['button_style'])\n",
    "        w.on_click(handle_label_click)\n",
    "\n",
    "        ws.append(w)\n",
    "\n",
    "    n_cols = 12\n",
    "    hboxes = []\n",
    "\n",
    "    while ws:\n",
    "        # add n_cols buttons to a horizontal box\n",
    "        hbox = widgets.HBox(ws[:n_cols])\n",
    "        hboxes.append(hbox)\n",
    "\n",
    "        ws = ws[n_cols:]\n",
    "\n",
    "    return hboxes"
   ]
  },
  {
   "cell_type": "code",
   "execution_count": null,
   "metadata": {},
   "outputs": [],
   "source": [
    "i = -1\n",
    "\n",
    "txt = widgets.Label('')\n",
    "\n",
    "container = widgets.VBox([widgets.Label('Click next to start')])\n",
    "\n",
    "prev_button = widgets.Button(description='Previous', button_style='success')\n",
    "prev_button.on_click(prev_button_click)\n",
    "\n",
    "next_button = widgets.Button(description='Next', button_style='success')\n",
    "next_button.on_click(next_button_click)\n",
    "\n",
    "buttons = widgets.HBox([prev_button, next_button])\n",
    "\n",
    "# txt = show_text(lbl.value)\n",
    "\n",
    "debug = widgets.Output()\n",
    "\n",
    "widgets.VBox([txt, container, buttons, debug])"
   ]
  },
  {
   "cell_type": "code",
   "execution_count": null,
   "metadata": {},
   "outputs": [],
   "source": [
    "df"
   ]
  },
  {
   "cell_type": "code",
   "execution_count": null,
   "metadata": {},
   "outputs": [],
   "source": [
    "df['label'].apply(lambda v: isinstance(v, list)).sum()"
   ]
  },
  {
   "cell_type": "code",
   "execution_count": null,
   "metadata": {},
   "outputs": [],
   "source": [
    "df.to_csv('test.csv')"
   ]
  },
  {
   "cell_type": "code",
   "execution_count": null,
   "metadata": {},
   "outputs": [],
   "source": [
    "def view_labels(df):\n",
    "    text_col = df[TEXT_COL]\n",
    "    label_col = df[LABEL_COL]\n",
    "    \n",
    "    html = \"\"\"\n",
    "    <style>\n",
    "    .1 {\n",
    "        color: orange\n",
    "    }\n",
    "    \n",
    "    .0 {\n",
    "        color: black\n",
    "    }\n",
    "\n",
    "    </style>\n",
    "    \"\"\"\n",
    "    \n",
    "    ws = []\n",
    "\n",
    "    for a, b in zip(text_col, label_col):\n",
    "        a = tokenize(a)\n",
    "        \n",
    "        assert len(a) == len(b)\n",
    "        lbl = widgets.HTML(html + ' '.join(f'<span class=\"{b_}\">{a_}</span>' for a_, b_ in zip(a, b)))\n",
    "        ws.append(lbl)\n",
    "        \n",
    "    return widgets.VBox(ws)\n",
    "    \n",
    "view_labels(df[df['label'].apply(lambda x: isinstance(x, list))])"
   ]
  },
  {
   "cell_type": "code",
   "execution_count": null,
   "metadata": {},
   "outputs": [],
   "source": [
    "# if this notebook is used to label more data, remember to save the new labels!"
   ]
  }
 ],
 "metadata": {
  "kernelspec": {
   "display_name": "Python 3",
   "language": "python",
   "name": "python3"
  },
  "language_info": {
   "codemirror_mode": {
    "name": "ipython",
    "version": 3
   },
   "file_extension": ".py",
   "mimetype": "text/x-python",
   "name": "python",
   "nbconvert_exporter": "python",
   "pygments_lexer": "ipython3",
   "version": "3.8.6"
  }
 },
 "nbformat": 4,
 "nbformat_minor": 4
}
