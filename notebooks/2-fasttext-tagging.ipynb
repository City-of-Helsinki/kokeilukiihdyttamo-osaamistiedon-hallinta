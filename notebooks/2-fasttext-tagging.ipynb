{
 "cells": [
  {
   "cell_type": "code",
   "execution_count": null,
   "metadata": {},
   "outputs": [],
   "source": [
    "# !pip install -q fasttext pandas xlrd langdetect"
   ]
  },
  {
   "cell_type": "code",
   "execution_count": null,
   "metadata": {},
   "outputs": [],
   "source": [
    "from pathlib import Path\n",
    "import pandas as pd\n",
    "import fasttext.util\n",
    "from langdetect import detect\n",
    "import sklearn.metrics as metrics\n",
    "import numpy as np\n",
    "import os\n",
    "import string\n",
    "from utils.preprocessing import tokenize"
   ]
  },
  {
   "cell_type": "code",
   "execution_count": null,
   "metadata": {},
   "outputs": [],
   "source": [
    "pd.set_option('display.max_colwidth', -1)\n",
    "pd.set_option('display.max_rows', 100)"
   ]
  },
  {
   "cell_type": "code",
   "execution_count": null,
   "metadata": {},
   "outputs": [],
   "source": [
    "text = pd.read_csv('data/interim/row_df_fi.csv', index_col=0)['answer']\n",
    "text.sample(n=10)"
   ]
  },
  {
   "cell_type": "code",
   "execution_count": null,
   "metadata": {},
   "outputs": [],
   "source": [
    "# esco skills\n",
    "skills = pd.read_csv('data/external/skills_fi.csv')\n",
    "skills.head()"
   ]
  },
  {
   "cell_type": "code",
   "execution_count": null,
   "metadata": {},
   "outputs": [],
   "source": [
    "model_name = 'cc.fi.300.bin'\n",
    "\n",
    "# download pretrained fasttext model if it does not exist\n",
    "if not Path('models', model_name).is_file():\n",
    "    fasttext.util.download_model('fi', if_exists='ignore')\n",
    "    Path(model_name).rename(os.path.join('models', model_name))\n",
    "    \n",
    "ft = fasttext.load_model('models/cc.fi.300.bin')"
   ]
  },
  {
   "cell_type": "code",
   "execution_count": null,
   "metadata": {},
   "outputs": [],
   "source": [
    "# stack all esco skill vectors\n",
    "M = np.stack(skills['preferredLabel'].apply(ft.get_sentence_vector))\n",
    "M.shape"
   ]
  },
  {
   "cell_type": "code",
   "execution_count": null,
   "metadata": {},
   "outputs": [],
   "source": [
    "v = ft.get_sentence_vector('vuorovaikutustaidot')\n",
    "\n",
    "cos_sim = metrics.pairwise.cosine_similarity(M, v.reshape(1, -1))\n",
    "\n",
    "sim = pd.DataFrame({'skill': skills['preferredLabel'], 'similarity': cos_sim.reshape(-1)})\n",
    "sim[sim['similarity'] > 0.5].sort_values('similarity', ascending=False).reset_index(drop=True)[:10]"
   ]
  },
  {
   "cell_type": "code",
   "execution_count": null,
   "metadata": {},
   "outputs": [],
   "source": [
    "THRESHOLD = 0.7\n",
    "\n",
    "# tässä käydään läpi jokaisen vastauksen jokainen sana ja pyritään tunnistamaan taidot muun tekstin joukosta\n",
    "# verrataan jokaista sanaa esco-osaamisten vektoreihin ja esim. luokitellaan sana osaamiseksi jos sille löytyy ESCO-osaaminen jonka kanssa samankaltaisuus >= `THRESHOLD`\n",
    "\n",
    "for doc in text[:10]:\n",
    "    for w in tokenize(doc):\n",
    "        skill_vec = ft.get_sentence_vector(w)\n",
    "\n",
    "        similarity = metrics.pairwise.cosine_similarity(M, skill_vec.reshape(1, -1))\n",
    "\n",
    "        sim_df = pd.DataFrame({'similarity': similarity.reshape(-1)}, index=skills['preferredLabel'])\n",
    "\n",
    "        similar = sim_df[sim_df['similarity'] > THRESHOLD]\n",
    "\n",
    "        s = [t.similarity for t in similar.itertuples()]\n",
    "\n",
    "        print(w)\n",
    "\n",
    "        for tup in list(similar.itertuples())[:5]:\n",
    "            print(f'\\t {tup.Index} {tup.similarity}')\n",
    "\n",
    "    print('#' * 80)\n",
    "\n"
   ]
  },
  {
   "cell_type": "markdown",
   "metadata": {},
   "source": [
    "Tämä menetelmä taitojen tunnistamiseen näyttäisi olevan puutteellinen (ainakin) kahdella tavalla: malli tarttuu liikaa syntaktisiin piirteisiin (esim. kehittäminen, kanssa, tai liittyviä) ja tekstissä olevat taidot eivät yleensä ole yksittäisiä sanoja joten niitä ei voi tunnistaa tällä menetelmällä.\n",
    "\n",
    "Tätä menetelmää voisi periaatteessa soveltaa useaan peräkkäiseen sanaan, mutta aikaisemmat kokeilut (tällä datalla) ovat näyttäneet että näin saadaan paljon osumia esco-taidoista mutta ne eivät ole millään tavalla relevantteja."
   ]
  }
 ],
 "metadata": {
  "kernelspec": {
   "display_name": "Python 3",
   "language": "python",
   "name": "python3"
  },
  "language_info": {
   "codemirror_mode": {
    "name": "ipython",
    "version": 3
   },
   "file_extension": ".py",
   "mimetype": "text/x-python",
   "name": "python",
   "nbconvert_exporter": "python",
   "pygments_lexer": "ipython3",
   "version": "3.8.6"
  }
 },
 "nbformat": 4,
 "nbformat_minor": 4
}
