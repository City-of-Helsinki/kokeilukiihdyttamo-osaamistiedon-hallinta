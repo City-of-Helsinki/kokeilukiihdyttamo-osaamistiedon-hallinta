{
 "cells": [
  {
   "cell_type": "code",
   "execution_count": null,
   "metadata": {},
   "outputs": [],
   "source": [
    "%load_ext autoreload\n",
    "%autoreload 2"
   ]
  },
  {
   "cell_type": "code",
   "execution_count": null,
   "metadata": {},
   "outputs": [],
   "source": [
    "import pandas as pd\n",
    "import fasttext\n",
    "from collections import Counter\n",
    "import string\n",
    "from utils.preprocessing import preprocess_func"
   ]
  },
  {
   "cell_type": "code",
   "execution_count": null,
   "metadata": {},
   "outputs": [],
   "source": [
    "lemmatize = True\n",
    "preprocess = preprocess_func(lemmatize=lemmatize)"
   ]
  },
  {
   "cell_type": "code",
   "execution_count": null,
   "metadata": {},
   "outputs": [],
   "source": [
    "df = pd.concat([\n",
    "    pd.read_csv('data/processed/ensisijainen.csv', index_col=0),\n",
    "    pd.read_csv('data/processed/toissijainen.csv', index_col=0)    \n",
    "])"
   ]
  },
  {
   "cell_type": "code",
   "execution_count": null,
   "metadata": {},
   "outputs": [],
   "source": [
    "df.head()"
   ]
  },
  {
   "cell_type": "code",
   "execution_count": null,
   "metadata": {},
   "outputs": [],
   "source": [
    "s = df['answer'].apply(preprocess)"
   ]
  },
  {
   "cell_type": "code",
   "execution_count": null,
   "metadata": {},
   "outputs": [],
   "source": [
    "for a in s.values[:10]:\n",
    "    print(a)"
   ]
  },
  {
   "cell_type": "code",
   "execution_count": null,
   "metadata": {},
   "outputs": [],
   "source": [
    "c = Counter([t for answer in s for t in answer.split()])"
   ]
  },
  {
   "cell_type": "code",
   "execution_count": null,
   "metadata": {},
   "outputs": [],
   "source": [
    "c.most_common(15)"
   ]
  },
  {
   "cell_type": "code",
   "execution_count": null,
   "metadata": {},
   "outputs": [],
   "source": [
    "text = '\\n'.join(s.values)"
   ]
  },
  {
   "cell_type": "code",
   "execution_count": null,
   "metadata": {},
   "outputs": [],
   "source": [
    "esco_df = pd.read_csv('data/external/skills_fi.csv')\n",
    "esco_df.head()"
   ]
  },
  {
   "cell_type": "code",
   "execution_count": null,
   "metadata": {},
   "outputs": [],
   "source": [
    "esco_text = '\\n'.join(esco_df['description'].apply(preprocess))"
   ]
  },
  {
   "cell_type": "code",
   "execution_count": null,
   "metadata": {},
   "outputs": [],
   "source": [
    "with open('data/interim/fasttext_train_data', 'w') as f:\n",
    "    f.write(text + esco_text)"
   ]
  },
  {
   "cell_type": "code",
   "execution_count": null,
   "metadata": {},
   "outputs": [],
   "source": [
    "hparams = {\n",
    "    'lr': 0.05,\n",
    "    'dim': 30,\n",
    "    'ws': 5,\n",
    "    'epoch': 5,\n",
    "    'minn': 4,\n",
    "    'maxn': 6,\n",
    "    'neg': 10,\n",
    "    'loss': 'ns',\n",
    "    'bucket': 2000000,    \n",
    "    'lrUpdateRate': 100,\n",
    "    't': 0.0001\n",
    "}\n",
    "\n",
    "rest = {\n",
    "    'input': 'data/interim/fasttext_train_data',\n",
    "    'model': 'skipgram',\n",
    "    'minCount': 1,\n",
    "    'minCountLabel': 0,\n",
    "    'wordNgrams': 1,\n",
    "    'thread': 1,\n",
    "#     'label':\n",
    "    'verbose': 5,\n",
    "#     'pretrainedVectors':\n",
    "}\n",
    "\n",
    "model_name = 'fasttext-' + ','.join([f'{k}={v}' for k, v in hparams.items()] + [f'lemmatize={lemmatize}']) + '.bin'"
   ]
  },
  {
   "cell_type": "code",
   "execution_count": null,
   "metadata": {},
   "outputs": [],
   "source": [
    "ft = fasttext.train_unsupervised(**hparams, **rest)"
   ]
  },
  {
   "cell_type": "code",
   "execution_count": null,
   "metadata": {},
   "outputs": [],
   "source": [
    "model_name"
   ]
  },
  {
   "cell_type": "code",
   "execution_count": null,
   "metadata": {},
   "outputs": [],
   "source": [
    "ft.save_model(os.path.join('models', model_name))"
   ]
  },
  {
   "cell_type": "code",
   "execution_count": null,
   "metadata": {},
   "outputs": [],
   "source": [
    "ft.get_nearest_neighbors('lääkehoito', k=50)"
   ]
  }
 ],
 "metadata": {
  "kernelspec": {
   "display_name": "Python 3",
   "language": "python",
   "name": "python3"
  },
  "language_info": {
   "codemirror_mode": {
    "name": "ipython",
    "version": 3
   },
   "file_extension": ".py",
   "mimetype": "text/x-python",
   "name": "python",
   "nbconvert_exporter": "python",
   "pygments_lexer": "ipython3",
   "version": "3.8.6"
  }
 },
 "nbformat": 4,
 "nbformat_minor": 4
}
