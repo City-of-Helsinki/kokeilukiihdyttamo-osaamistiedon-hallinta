{
 "cells": [
  {
   "cell_type": "code",
   "execution_count": null,
   "metadata": {},
   "outputs": [],
   "source": [
    "# !pip install nltk -q"
   ]
  },
  {
   "cell_type": "code",
   "execution_count": null,
   "metadata": {},
   "outputs": [],
   "source": [
    "import pandas as pd\n",
    "import string\n",
    "from nltk import ngrams, tokenize, corpus\n",
    "from nltk.stem.snowball import SnowballStemmer"
   ]
  },
  {
   "cell_type": "code",
   "execution_count": null,
   "metadata": {},
   "outputs": [],
   "source": [
    "stopwords = corpus.stopwords.words('finnish') + list(string.punctuation)"
   ]
  },
  {
   "cell_type": "code",
   "execution_count": null,
   "metadata": {},
   "outputs": [],
   "source": [
    "df = pd.read_csv('data/interim/row_df_fi.csv', index_col=0)\n",
    "df.head()"
   ]
  },
  {
   "cell_type": "code",
   "execution_count": null,
   "metadata": {},
   "outputs": [],
   "source": [
    "df['organisaatio1'].value_counts()"
   ]
  },
  {
   "cell_type": "code",
   "execution_count": null,
   "metadata": {},
   "outputs": [],
   "source": [
    "stemmer = SnowballStemmer('finnish')\n",
    "tokenizer = tokenize.WordPunctTokenizer()\n",
    "\n",
    "stopword_stems = set([stemmer.stem(s) for s in stopwords])"
   ]
  },
  {
   "cell_type": "code",
   "execution_count": null,
   "metadata": {},
   "outputs": [],
   "source": [
    "def preprocess(doc, stem=True):\n",
    "    stems = [stemmer.stem(token).lower() if stem else token.lower() for token in tokenizer.tokenize(doc)]\n",
    "    \n",
    "    grams = list(ngrams(stems, 1)) + list(ngrams(stems, 2))\n",
    "    \n",
    "    sw = stopword_stems if stem else stopwords\n",
    "\n",
    "    grams = [ng for ng in grams if not any(elem in sw or elem in string.punctuation for elem in ng)]\n",
    "    \n",
    "    return grams"
   ]
  },
  {
   "cell_type": "code",
   "execution_count": null,
   "metadata": {},
   "outputs": [],
   "source": [
    "sel = df['organisaatio1'] == 'Kasvatuksen ja koulutuksen toimiala'\n",
    "sel_answers = df.loc[sel, 'answer']\n",
    "\n",
    "sel_osaamiset = pd.Series([ng for feature_list in sel_answers.apply(preprocess) for ng in feature_list]).value_counts()\n",
    "\n",
    "for k, v in list(zip(sel_osaamiset.index, sel_osaamiset.values))[20:]:\n",
    "    print(k, v)\n",
    "    if v < 10:\n",
    "        break"
   ]
  }
 ],
 "metadata": {
  "kernelspec": {
   "display_name": "Python 3",
   "language": "python",
   "name": "python3"
  },
  "language_info": {
   "codemirror_mode": {
    "name": "ipython",
    "version": 3
   },
   "file_extension": ".py",
   "mimetype": "text/x-python",
   "name": "python",
   "nbconvert_exporter": "python",
   "pygments_lexer": "ipython3",
   "version": "3.8.6"
  }
 },
 "nbformat": 4,
 "nbformat_minor": 4
}
