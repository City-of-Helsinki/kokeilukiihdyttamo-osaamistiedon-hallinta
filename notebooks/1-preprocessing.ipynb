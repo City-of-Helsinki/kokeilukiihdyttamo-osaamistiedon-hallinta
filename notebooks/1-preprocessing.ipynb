{
 "cells": [
  {
   "cell_type": "code",
   "execution_count": null,
   "metadata": {},
   "outputs": [],
   "source": [
    "# !pip install pandas xlrd langdetect -q"
   ]
  },
  {
   "cell_type": "code",
   "execution_count": null,
   "metadata": {},
   "outputs": [],
   "source": [
    "import pandas as pd\n",
    "import langdetect"
   ]
  },
  {
   "cell_type": "code",
   "execution_count": null,
   "metadata": {},
   "outputs": [],
   "source": [
    "DATA_NAMES = ['ensisijainen', 'toissijainen']\n",
    "\n",
    "DATA = DATA_NAMES[0]\n",
    "\n",
    "print(DATA)"
   ]
  },
  {
   "cell_type": "code",
   "execution_count": null,
   "metadata": {},
   "outputs": [],
   "source": [
    "df = pd.read_excel(f'data/raw/{DATA}_anonymized.xlsx', index_col=0)\n",
    "df.head()"
   ]
  },
  {
   "cell_type": "code",
   "execution_count": null,
   "metadata": {},
   "outputs": [],
   "source": [
    "# drop columns where all values are NaN\n",
    "df = df.dropna(axis=1, how='all')"
   ]
  },
  {
   "cell_type": "code",
   "execution_count": null,
   "metadata": {},
   "outputs": [],
   "source": [
    "pd.set_option('display.max_rows', 20000)\n",
    "pd.set_option('display.max_columns', 500)\n",
    "pd.set_option('display.width', 1000)\n",
    "pd.set_option('display.max_colwidth', -1)"
   ]
  },
  {
   "cell_type": "code",
   "execution_count": null,
   "metadata": {},
   "outputs": [],
   "source": [
    "df.head(500)"
   ]
  },
  {
   "cell_type": "code",
   "execution_count": null,
   "metadata": {},
   "outputs": [],
   "source": [
    "def notnan(x):\n",
    "    return x == x"
   ]
  },
  {
   "cell_type": "code",
   "execution_count": null,
   "metadata": {},
   "outputs": [],
   "source": [
    "organisaatio1, organisaatio2, organisaatio3, question = None, None, None, None\n",
    "\n",
    "row_dicts = []\n",
    "\n",
    "for org1, org2, org3, q, _, answer in df[3:].itertuples(name=None, index=False):\n",
    "    \n",
    "    # rivit joissa organisaatiotaso on määritelty\n",
    "\n",
    "    if notnan(org1):\n",
    "        if org1.strip().endswith('Total'):\n",
    "            continue\n",
    "\n",
    "        organisaatio1 = org1\n",
    "        organisaatio2 = org2\n",
    "        organisaatio3 = org3\n",
    "        question = q\n",
    "        \n",
    "    elif notnan(org2):\n",
    "        if org2.strip().endswith('Total'):\n",
    "            continue\n",
    "\n",
    "        organisaatio2 = org2\n",
    "        organisaatio3 = org3\n",
    "        question = q\n",
    "\n",
    "        \n",
    "    elif notnan(org3):\n",
    "        if org3.strip().endswith('Total'):\n",
    "            continue\n",
    "\n",
    "        organisaatio3 = org3\n",
    "        question = q\n",
    "        \n",
    "    \n",
    "    # rivit joissa kysymys vaihtuu\n",
    "    elif notnan(q):\n",
    "        if q.strip().endswith('Total'):\n",
    "            continue\n",
    "\n",
    "        question = q\n",
    "        \n",
    "    # muuten rivi on vastaus kysymykseen\n",
    "    elif notnan(answer):\n",
    "        row_dict = {'organisaatio1': organisaatio1,\n",
    "                    'organisaatio2': organisaatio2,\n",
    "                    'organisaatio3': organisaatio3, \n",
    "                    'question': question, \n",
    "                    'answer': answer}\n",
    "\n",
    "        row_dicts.append(row_dict)\n",
    "\n",
    "row_df = pd.DataFrame(row_dicts)"
   ]
  },
  {
   "cell_type": "code",
   "execution_count": null,
   "metadata": {},
   "outputs": [],
   "source": [
    "row_df.head(10)"
   ]
  },
  {
   "cell_type": "code",
   "execution_count": null,
   "metadata": {},
   "outputs": [],
   "source": [
    "row_df['question'].value_counts()"
   ]
  },
  {
   "cell_type": "code",
   "execution_count": null,
   "metadata": {},
   "outputs": [],
   "source": [
    "def get_lang(row):\n",
    "    try:\n",
    "        lang = langdetect.detect(row['answer'])\n",
    "        \n",
    "        # Most of the text is finnish or swedish but langdetect does not work very well for short texts.\n",
    "        # Let's assume that everything that is not Swedish is Finnish\n",
    "        if lang != 'sv':\n",
    "            lang = 'fi'\n",
    "\n",
    "    except langdetect.lang_detect_exception.LangDetectException:\n",
    "        lang = 'fi'\n",
    "\n",
    "    return lang"
   ]
  },
  {
   "cell_type": "code",
   "execution_count": null,
   "metadata": {},
   "outputs": [],
   "source": [
    "row_df['lang'] = row_df.apply(get_lang, axis=1)"
   ]
  },
  {
   "cell_type": "code",
   "execution_count": null,
   "metadata": {},
   "outputs": [],
   "source": [
    "row_df.head()"
   ]
  },
  {
   "cell_type": "code",
   "execution_count": null,
   "metadata": {},
   "outputs": [],
   "source": [
    "row_df['lang'].value_counts()"
   ]
  },
  {
   "cell_type": "code",
   "execution_count": null,
   "metadata": {},
   "outputs": [],
   "source": [
    "question = {\n",
    "    'ensisijainen': 'Mitä työssäni tarvittavaa osaamista kehitän?',\n",
    "    'toissijainen': 'Mitä osaamista kehitän sen lisäksi?'\n",
    "}[DATA]"
   ]
  },
  {
   "cell_type": "code",
   "execution_count": null,
   "metadata": {},
   "outputs": [],
   "source": [
    "q = (row_df['question'] == question)\n",
    "fi = (row_df['lang'] == 'fi')\n",
    "\n",
    "row_df_fi = row_df.loc[q & fi]\n",
    "\n",
    "row_df_fi.to_csv(f'./data/processed/{DATA}.csv')"
   ]
  },
  {
   "cell_type": "code",
   "execution_count": null,
   "metadata": {},
   "outputs": [],
   "source": [
    "row_df_fi.head(10)"
   ]
  }
 ],
 "metadata": {
  "kernelspec": {
   "display_name": "Python 3",
   "language": "python",
   "name": "python3"
  },
  "language_info": {
   "codemirror_mode": {
    "name": "ipython",
    "version": 3
   },
   "file_extension": ".py",
   "mimetype": "text/x-python",
   "name": "python",
   "nbconvert_exporter": "python",
   "pygments_lexer": "ipython3",
   "version": "3.8.6"
  }
 },
 "nbformat": 4,
 "nbformat_minor": 4
}
